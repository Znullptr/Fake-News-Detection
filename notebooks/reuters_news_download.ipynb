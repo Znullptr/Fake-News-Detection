{
 "cells": [
  {
   "cell_type": "code",
   "execution_count": 17,
   "metadata": {
    "collapsed": true,
    "pycharm": {
     "name": "#%%\n"
    }
   },
   "outputs": [],
   "source": [
    "import requests\n",
    "import pandas as pd\n",
    "from tqdm import tqdm\n",
    "from newspaper import Article"
   ]
  },
  {
   "cell_type": "code",
   "execution_count": 15,
   "outputs": [
    {
     "name": "stderr",
     "output_type": "stream",
     "text": [
      "Fetching Articles: 100%|██████████| 100/100 [01:25<00:00,  1.17it/s]\n"
     ]
    }
   ],
   "source": [
    "all_data = []\n",
    "for i in tqdm(range(100), desc=\"Fetching Articles\"):\n",
    "    url = f\"https://www.reuters.com/pf/api/v3/content/fetch/articles-by-section-alias-or-id-v1?query=%7B%22arc-site%22%3A%22reuters%22%2C%22called_from_a_component%22%3Atrue%2C%22fetch_type%22%3A%22sophi%22%2C%22offset%22%3A{i}%2C%22section_id%22%3A%22%2Fworld%2F%22%2C%22size%22%3A9%2C%22sophi_page%22%3A%22*%22%2C%22sophi_widget%22%3A%22topic%22%2C%22uri%22%3A%22%2Fworld%2F%22%2C%22website%22%3A%22reuters%22%7D&d=153&_website=reuters\"\n",
    "    response = requests.get(url)\n",
    "    # Check if the request was successful (status code 200)\n",
    "    if response.status_code == 200:\n",
    "        data = response.json()\n",
    "        if 'result' in data and 'articles' in data['result']:\n",
    "            all_data.extend(data['result']['articles'])"
   ],
   "metadata": {
    "collapsed": false,
    "pycharm": {
     "name": "#%%\n"
    }
   }
  },
  {
   "cell_type": "code",
   "execution_count": 16,
   "outputs": [
    {
     "name": "stdout",
     "output_type": "stream",
     "text": [
      "(864, 19)\n",
      "0      /world/us/maui-tourism-an-economic-mainstay-sp...\n",
      "1      /world/russian-raid-off-turkeys-coast-tests-er...\n",
      "2      /world/europe/cargo-ship-leaves-ukrainian-port...\n",
      "3      /world/europe/ukraine-says-recaptures-urozhain...\n",
      "4      /world/europe/wildfire-tenerife-national-park-...\n",
      "                             ...                        \n",
      "859    /world/middle-east/jordan-army-downs-drone-loa...\n",
      "860    /world/europe/ukraines-frontline-farmers-face-...\n",
      "861    /world/middle-east/jordan-army-downs-drone-loa...\n",
      "862    /world/europe/ukraines-frontline-farmers-face-...\n",
      "863    /world/europe/ukraines-frontline-farmers-face-...\n",
      "Name: canonical_url, Length: 864, dtype: object\n"
     ]
    }
   ],
   "source": [
    "# Create a DataFrame from the list of articles\n",
    "df = pd.DataFrame(all_data)\n",
    "\n",
    "# Print the first few rows of the DataFrame\n",
    "print(df.shape)\n",
    "links = df['canonical_url']\n",
    "print(links)"
   ],
   "metadata": {
    "collapsed": false,
    "pycharm": {
     "name": "#%%\n"
    }
   }
  },
  {
   "cell_type": "code",
   "execution_count": 19,
   "outputs": [
    {
     "name": "stderr",
     "output_type": "stream",
     "text": [
      "100%|██████████| 864/864 [11:55<00:00,  1.21it/s]\n"
     ]
    }
   ],
   "source": [
    "articles = {\n",
    "    'Title': [],\n",
    "    'Description': []\n",
    "}\n",
    "URL='https://www.reuters.com'\n",
    "for index, row in tqdm(df.iterrows(), total=len(df)):\n",
    "    link = URL + row['canonical_url']\n",
    "    news_article = Article(link)\n",
    "    news_article.download()\n",
    "    news_article.parse()\n",
    "    title = news_article.title\n",
    "    description = news_article.text\n",
    "    articles['Title'].append(title)\n",
    "    articles['Description'].append(description)"
   ],
   "metadata": {
    "collapsed": false,
    "pycharm": {
     "name": "#%%\n"
    }
   }
  },
  {
   "cell_type": "code",
   "execution_count": 20,
   "outputs": [],
   "source": [
    "news_df = pd.DataFrame(articles)\n",
    "news_df['Label'] = 1\n",
    "news_df.to_csv('reuters_news.csv',index=False)"
   ],
   "metadata": {
    "collapsed": false,
    "pycharm": {
     "name": "#%%\n"
    }
   }
  },
  {
   "cell_type": "code",
   "execution_count": null,
   "outputs": [],
   "source": [],
   "metadata": {
    "collapsed": false,
    "pycharm": {
     "name": "#%%\n"
    }
   }
  }
 ],
 "metadata": {
  "kernelspec": {
   "display_name": "Python 3",
   "language": "python",
   "name": "python3"
  },
  "language_info": {
   "codemirror_mode": {
    "name": "ipython",
    "version": 2
   },
   "file_extension": ".py",
   "mimetype": "text/x-python",
   "name": "python",
   "nbconvert_exporter": "python",
   "pygments_lexer": "ipython2",
   "version": "2.7.6"
  }
 },
 "nbformat": 4,
 "nbformat_minor": 0
}