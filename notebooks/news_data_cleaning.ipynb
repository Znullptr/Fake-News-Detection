{
 "cells": [
  {
   "cell_type": "code",
   "execution_count": 1,
   "metadata": {
    "collapsed": true,
    "ExecuteTime": {
     "end_time": "2023-08-30T02:08:41.788828400Z",
     "start_time": "2023-08-30T02:08:41.480592900Z"
    }
   },
   "outputs": [],
   "source": [
    "import pandas as pd\n",
    "import os\n",
    "import re\n",
    "import emoji\n",
    "from nltk import word_tokenize\n",
    "from nltk import PorterStemmer"
   ]
  },
  {
   "cell_type": "code",
   "execution_count": 2,
   "outputs": [],
   "source": [
    "path = 'news_datasets'\n",
    "csv_files = os.listdir(path)\n",
    "dfs=[]\n",
    "for filename in csv_files:\n",
    "    df = pd.read_csv(path + '/' + filename)\n",
    "    dfs.append(df)\n",
    "real_news_df = pd.concat(dfs, ignore_index=True)\n",
    "real_news_df.rename(columns={'Title': 'title', 'Description': 'text', 'Label': 'label'}, inplace=True)"
   ],
   "metadata": {
    "collapsed": false,
    "ExecuteTime": {
     "end_time": "2023-08-30T02:08:42.665445900Z",
     "start_time": "2023-08-30T02:08:41.792819600Z"
    }
   }
  },
  {
   "cell_type": "code",
   "execution_count": 3,
   "outputs": [
    {
     "data": {
      "text/plain": "(14261, 3)"
     },
     "execution_count": 3,
     "metadata": {},
     "output_type": "execute_result"
    }
   ],
   "source": [
    "real_news_df.shape"
   ],
   "metadata": {
    "collapsed": false,
    "ExecuteTime": {
     "end_time": "2023-08-30T02:08:42.680461400Z",
     "start_time": "2023-08-30T02:08:42.669444300Z"
    }
   }
  },
  {
   "cell_type": "code",
   "execution_count": 4,
   "outputs": [
    {
     "data": {
      "text/plain": "title    0\ntext     1\nlabel    0\ndtype: int64"
     },
     "execution_count": 4,
     "metadata": {},
     "output_type": "execute_result"
    }
   ],
   "source": [
    "real_news_df.isnull().sum()"
   ],
   "metadata": {
    "collapsed": false,
    "ExecuteTime": {
     "end_time": "2023-08-30T02:08:42.740032300Z",
     "start_time": "2023-08-30T02:08:42.687447800Z"
    }
   }
  },
  {
   "cell_type": "code",
   "execution_count": 5,
   "outputs": [],
   "source": [
    "real_news_df.dropna(inplace=True)"
   ],
   "metadata": {
    "collapsed": false,
    "ExecuteTime": {
     "end_time": "2023-08-30T02:08:42.750032400Z",
     "start_time": "2023-08-30T02:08:42.697446600Z"
    }
   }
  },
  {
   "cell_type": "code",
   "execution_count": 6,
   "outputs": [
    {
     "data": {
      "text/plain": "(14260, 3)"
     },
     "execution_count": 6,
     "metadata": {},
     "output_type": "execute_result"
    }
   ],
   "source": [
    "real_news_df.shape"
   ],
   "metadata": {
    "collapsed": false,
    "ExecuteTime": {
     "end_time": "2023-08-30T02:08:42.750032400Z",
     "start_time": "2023-08-30T02:08:42.716461800Z"
    }
   }
  },
  {
   "cell_type": "code",
   "execution_count": 7,
   "outputs": [],
   "source": [
    "real_news_df.drop_duplicates(subset='text', inplace=True)\n",
    "real_news_df.reset_index(drop=True, inplace=True)"
   ],
   "metadata": {
    "collapsed": false,
    "ExecuteTime": {
     "end_time": "2023-08-30T02:08:42.809029700Z",
     "start_time": "2023-08-30T02:08:42.788019400Z"
    }
   }
  },
  {
   "cell_type": "code",
   "execution_count": 8,
   "outputs": [
    {
     "data": {
      "text/plain": "(12411, 3)"
     },
     "execution_count": 8,
     "metadata": {},
     "output_type": "execute_result"
    }
   ],
   "source": [
    "real_news_df.shape"
   ],
   "metadata": {
    "collapsed": false,
    "ExecuteTime": {
     "end_time": "2023-08-30T02:08:42.820053900Z",
     "start_time": "2023-08-30T02:08:42.809029700Z"
    }
   }
  },
  {
   "cell_type": "code",
   "execution_count": 9,
   "outputs": [
    {
     "data": {
      "text/plain": "title    object\ntext     object\nlabel     int64\ndtype: object"
     },
     "execution_count": 9,
     "metadata": {},
     "output_type": "execute_result"
    }
   ],
   "source": [
    "real_news_df.dtypes"
   ],
   "metadata": {
    "collapsed": false,
    "ExecuteTime": {
     "end_time": "2023-08-30T02:08:42.865560500Z",
     "start_time": "2023-08-30T02:08:42.822050700Z"
    }
   }
  },
  {
   "cell_type": "code",
   "execution_count": 10,
   "outputs": [],
   "source": [
    "fake_news_df = pd.read_csv('WELFake_Dataset.csv',index_col=0)\n",
    "fake_news_df = fake_news_df[(fake_news_df['label'] == 1) & (fake_news_df['text'].str.strip() != '')]\n",
    "fake_news_df['label'] = 0"
   ],
   "metadata": {
    "collapsed": false,
    "ExecuteTime": {
     "end_time": "2023-08-30T02:08:45.141117600Z",
     "start_time": "2023-08-30T02:08:42.838543200Z"
    }
   }
  },
  {
   "cell_type": "code",
   "execution_count": 11,
   "outputs": [
    {
     "data": {
      "text/plain": "(36363, 3)"
     },
     "execution_count": 11,
     "metadata": {},
     "output_type": "execute_result"
    }
   ],
   "source": [
    "fake_news_df.shape"
   ],
   "metadata": {
    "collapsed": false,
    "ExecuteTime": {
     "end_time": "2023-08-30T02:08:45.158114800Z",
     "start_time": "2023-08-30T02:08:45.143115300Z"
    }
   }
  },
  {
   "cell_type": "code",
   "execution_count": 12,
   "outputs": [
    {
     "data": {
      "text/plain": "title    558\ntext      39\nlabel      0\ndtype: int64"
     },
     "execution_count": 12,
     "metadata": {},
     "output_type": "execute_result"
    }
   ],
   "source": [
    "fake_news_df.isnull().sum()"
   ],
   "metadata": {
    "collapsed": false,
    "ExecuteTime": {
     "end_time": "2023-08-30T02:08:45.203140500Z",
     "start_time": "2023-08-30T02:08:45.159118900Z"
    }
   }
  },
  {
   "cell_type": "code",
   "execution_count": 13,
   "outputs": [],
   "source": [
    "fake_news_df.dropna(inplace=True)"
   ],
   "metadata": {
    "collapsed": false,
    "ExecuteTime": {
     "end_time": "2023-08-30T02:08:45.217178900Z",
     "start_time": "2023-08-30T02:08:45.176114600Z"
    }
   }
  },
  {
   "cell_type": "code",
   "execution_count": 14,
   "outputs": [
    {
     "data": {
      "text/plain": "(35766, 3)"
     },
     "execution_count": 14,
     "metadata": {},
     "output_type": "execute_result"
    }
   ],
   "source": [
    "fake_news_df.shape"
   ],
   "metadata": {
    "collapsed": false,
    "ExecuteTime": {
     "end_time": "2023-08-30T02:08:45.228191Z",
     "start_time": "2023-08-30T02:08:45.209169500Z"
    }
   }
  },
  {
   "cell_type": "code",
   "execution_count": 15,
   "outputs": [],
   "source": [
    "fake_news_df.drop_duplicates(subset='text', inplace=True)\n",
    "fake_news_df.reset_index(drop=True, inplace=True)"
   ],
   "metadata": {
    "collapsed": false,
    "ExecuteTime": {
     "end_time": "2023-08-30T02:08:45.286969300Z",
     "start_time": "2023-08-30T02:08:45.223198200Z"
    }
   }
  },
  {
   "cell_type": "code",
   "execution_count": 16,
   "outputs": [
    {
     "data": {
      "text/plain": "(27577, 3)"
     },
     "execution_count": 16,
     "metadata": {},
     "output_type": "execute_result"
    }
   ],
   "source": [
    "fake_news_df.shape"
   ],
   "metadata": {
    "collapsed": false,
    "ExecuteTime": {
     "end_time": "2023-08-30T02:08:45.392498600Z",
     "start_time": "2023-08-30T02:08:45.283964600Z"
    }
   }
  },
  {
   "cell_type": "code",
   "execution_count": 17,
   "outputs": [
    {
     "data": {
      "text/plain": "title    object\ntext     object\nlabel     int64\ndtype: object"
     },
     "execution_count": 17,
     "metadata": {},
     "output_type": "execute_result"
    }
   ],
   "source": [
    "fake_news_df.dtypes"
   ],
   "metadata": {
    "collapsed": false,
    "ExecuteTime": {
     "end_time": "2023-08-30T02:08:45.436509500Z",
     "start_time": "2023-08-30T02:08:45.396491500Z"
    }
   }
  },
  {
   "cell_type": "code",
   "execution_count": 18,
   "outputs": [
    {
     "data": {
      "text/plain": "(12376, 3)"
     },
     "execution_count": 18,
     "metadata": {},
     "output_type": "execute_result"
    }
   ],
   "source": [
    "fake_news_df = fake_news_df.head(12376)\n",
    "fake_news_df.shape"
   ],
   "metadata": {
    "collapsed": false,
    "ExecuteTime": {
     "end_time": "2023-08-30T02:08:45.451517300Z",
     "start_time": "2023-08-30T02:08:45.410962Z"
    }
   }
  },
  {
   "cell_type": "code",
   "execution_count": 19,
   "outputs": [
    {
     "data": {
      "text/plain": "(24787, 3)"
     },
     "execution_count": 19,
     "metadata": {},
     "output_type": "execute_result"
    }
   ],
   "source": [
    "final_news_df = pd.concat([real_news_df,fake_news_df],ignore_index=True)\n",
    "final_news_df.shape"
   ],
   "metadata": {
    "collapsed": false,
    "ExecuteTime": {
     "end_time": "2023-08-30T02:08:45.451517300Z",
     "start_time": "2023-08-30T02:08:45.436509500Z"
    }
   }
  },
  {
   "cell_type": "code",
   "execution_count": 20,
   "outputs": [
    {
     "data": {
      "text/plain": "              label\ncount  24787.000000\nmean       0.500706\nstd        0.500010\nmin        0.000000\n25%        0.000000\n50%        1.000000\n75%        1.000000\nmax        1.000000",
      "text/html": "<div>\n<style scoped>\n    .dataframe tbody tr th:only-of-type {\n        vertical-align: middle;\n    }\n\n    .dataframe tbody tr th {\n        vertical-align: top;\n    }\n\n    .dataframe thead th {\n        text-align: right;\n    }\n</style>\n<table border=\"1\" class=\"dataframe\">\n  <thead>\n    <tr style=\"text-align: right;\">\n      <th></th>\n      <th>label</th>\n    </tr>\n  </thead>\n  <tbody>\n    <tr>\n      <th>count</th>\n      <td>24787.000000</td>\n    </tr>\n    <tr>\n      <th>mean</th>\n      <td>0.500706</td>\n    </tr>\n    <tr>\n      <th>std</th>\n      <td>0.500010</td>\n    </tr>\n    <tr>\n      <th>min</th>\n      <td>0.000000</td>\n    </tr>\n    <tr>\n      <th>25%</th>\n      <td>0.000000</td>\n    </tr>\n    <tr>\n      <th>50%</th>\n      <td>1.000000</td>\n    </tr>\n    <tr>\n      <th>75%</th>\n      <td>1.000000</td>\n    </tr>\n    <tr>\n      <th>max</th>\n      <td>1.000000</td>\n    </tr>\n  </tbody>\n</table>\n</div>"
     },
     "execution_count": 20,
     "metadata": {},
     "output_type": "execute_result"
    }
   ],
   "source": [
    "final_news_df.describe()"
   ],
   "metadata": {
    "collapsed": false,
    "ExecuteTime": {
     "end_time": "2023-08-30T02:08:45.514180900Z",
     "start_time": "2023-08-30T02:08:45.442496600Z"
    }
   }
  },
  {
   "cell_type": "code",
   "execution_count": 21,
   "outputs": [],
   "source": [
    "final_news_df.to_csv('final_news_dataset.csv',index=False)"
   ],
   "metadata": {
    "collapsed": false,
    "ExecuteTime": {
     "end_time": "2023-08-30T02:08:47.813642200Z",
     "start_time": "2023-08-30T02:08:45.474162900Z"
    }
   }
  },
  {
   "cell_type": "code",
   "execution_count": 22,
   "outputs": [],
   "source": [
    "contractions_dict = {\"ain't\": \"are not\", \"aren't\": \"are not\", \"It’s\": \"it is\",\n",
    "                     \"can't\": \"cannot\", \"can't've\": \"cannot have\",\n",
    "                     \"'cause\": \"because\", \"could've\": \"could have\", \"couldn't\": \"could not\",\n",
    "                     \"couldn't've\": \"could not have\", \"didn't\": \"did not\", \"doesn't\": \"does not\",\n",
    "                     \"don't\": \"do not\", \"hadn't\": \"had not\", \"hadn't've\": \"had not have\",\n",
    "                     \"hasn't\": \"has not\", \"haven't\": \"have not\", \"he'd\": \"he would\",\n",
    "                     \"he'd've\": \"he would have\", \"he'll\": \"he will\", \"he'll've\": \"he will have\",\n",
    "                     \"how'd\": \"how did\", \"how'd'y\": \"how do you\", \"how'll\": \"how will\",\n",
    "                     \"i'd\": \"i would\", \"i'd've\": \"i would have\", \"i'll\": \"i will\",\n",
    "                     \"i'll've\": \"i will have\", \"i'm\": \"i am\", \"I've\": \"i have\", \"isn't\": \"is not\",\n",
    "                     \"it'd\": \"it would\", \"it'd've\": \"it would have\", \"it'll\": \"it will\",\n",
    "                     \"it'll've\": \"it will have\", \"let's\": \"let us\", \"ma'am\": \"madam\",\n",
    "                     \"mayn't\": \"may not\", \"might've\": \"might have\", \"mightn't\": \"might not\",\n",
    "                     \"mightn't've\": \"might not have\", \"must've\": \"must have\", \"mustn't\": \"must not\",\n",
    "                     \"mustn't've\": \"must not have\", \"needn't\": \"need not\",\n",
    "                     \"needn't've\": \"need not have\", \"o'clock\": \"of the clock\", \"oughtn't\": \"ought not\",\n",
    "                     \"oughtn't've\": \"ought not have\", \"shan't\": \"shall not\", \"sha'n't\": \"shall not\",\n",
    "                     \"shan't've\": \"shall not have\", \"she'd\": \"she would\", \"she'd've\": \"she would have\",\n",
    "                     \"she'll\": \"she will\", \"she'll've\": \"she will have\", \"should've\": \"should have\",\n",
    "                     \"shouldn't\": \"should not\", \"shouldn't've\": \"should not have\", \"so've\": \"so have\",\n",
    "                     \"that'd\": \"that would\", \"that'd've\": \"that would have\", \"there'd\": \"there would\",\n",
    "                     \"there'd've\": \"there would have\", \"they'd\": \"they would\",\n",
    "                     \"they'd've\": \"they would have\", \"they'll\": \"they will\",\n",
    "                     \"they'll've\": \"they will have\", \"they're\": \"they are\", \"they've\": \"they have\",\n",
    "                     \"to've\": \"to have\", \"wasn't\": \"was not\", \"we'd\": \"we would\",\n",
    "                     \"we'd've\": \"we would have\", \"we'll\": \"we will\", \"we'll've\": \"we will have\",\n",
    "                     \"we're\": \"we are\", \"we've\": \"we have\", \"weren't\": \"were not\", \"what'll\": \"what will\",\n",
    "                     \"what'll've\": \"what will have\", \"what're\": \"what are\", \"what've\": \"what have\",\n",
    "                     \"when've\": \"when have\", \"where'd\": \"where did\", \"where've\": \"where have\",\n",
    "                     \"who'll\": \"who will\", \"who'll've\": \"who will have\", \"who've\": \"who have\",\n",
    "                     \"why've\": \"why have\", \"will've\": \"will have\", \"won't\": \"will not\",\n",
    "                     \"won't've\": \"will not have\", \"would've\": \"would have\", \"wouldn't\": \"would not\",\n",
    "                     \"wouldn't've\": \"would not have\", \"y'all\": \"you all\", \"y'all'd\": \"you all would\",\n",
    "                     \"y'all'd've\": \"you all would have\", \"y'all're\": \"you all are\",\n",
    "                     \"y'all've\": \"you all have\", \"you'd\": \"you would\", \"you'd've\": \"you would have\",\n",
    "                     \"you'll\": \"you will\", \"you'll've\": \"you will have\", \"you're\": \"you are\"}\n",
    "\n",
    "\n",
    "def correct_words(words):\n",
    "    corrected_words = []\n",
    "    for word in words:\n",
    "        key = word.replace(\"’\", \"'\")\n",
    "        if key in contractions_dict.keys():\n",
    "            corrected_words.append(contractions_dict[key])\n",
    "        elif word in contractions_dict.keys():\n",
    "            corrected_words.append(contractions_dict[word])\n",
    "        else:\n",
    "            corrected_words.append(word.replace(\"’s\", \" is\").replace(\"'s\", \" is\"))\n",
    "    return corrected_words"
   ],
   "metadata": {
    "collapsed": false,
    "ExecuteTime": {
     "end_time": "2023-08-30T02:08:47.828383600Z",
     "start_time": "2023-08-30T02:08:47.822651900Z"
    }
   }
  },
  {
   "cell_type": "code",
   "execution_count": 23,
   "outputs": [],
   "source": [
    "stemmer = PorterStemmer()\n",
    "def process_text(text):\n",
    "    text = ''.join([emoji.demojize(i, delimiters=(' ', ' ')) for i in text])\n",
    "    words = text.strip().split()\n",
    "    words = [word.lower() for word in words]\n",
    "    words = [re.sub(r\"[^a-z\\s’'#@*0-9]+\", '', word) for word in words]\n",
    "    words = correct_words(words)\n",
    "    text = ' '.join([re.sub(r\"[’']\", '', word) for word in words])\n",
    "    text = re.sub(r'http\\S+', '', text)\n",
    "    tokens = word_tokenize(text)\n",
    "    stemmed_tokens = [stemmer.stem(token) for token in tokens]\n",
    "    return ' '.join(stemmed_tokens)"
   ],
   "metadata": {
    "collapsed": false,
    "ExecuteTime": {
     "end_time": "2023-08-30T02:08:47.861913500Z",
     "start_time": "2023-08-30T02:08:47.832393200Z"
    }
   }
  },
  {
   "cell_type": "code",
   "execution_count": 24,
   "outputs": [
    {
     "data": {
      "text/plain": "                                               title  \\\n0  Voice referendum: Australia to hold historic I...   \n1  Ukraine war: 'Drone attack' hits airport in no...   \n2  James Cleverly visits Beijing as MPs criticise...   \n3  Nagorno-Karabakh: 'People are fainting queuing...   \n4  Hurricane Idalia: What is a storm surge and wh...   \n5  On patrol with Tunisia's coast guard: Nine boa...   \n6  Hurricane Idalia: Florida hunkers down for 'un...   \n7  Little boy among three killed in County Tipper...   \n8  Harrison Floyd: Bond agreement reached for jai...   \n9  Rare footage of St Elmo's Fire as hurricane ap...   \n\n                                                text  label  \n0  voic referendum australia to hold histor indig...      1  \n1  ukrain war drone attack hit airport in northwe...      1  \n2  jame cleverli visit beij as mp criticis china ...      1  \n3  nagornokarabakh peopl are faint queu up for br...      1  \n4  hurrican idalia what is a storm surg and whi i...      1  \n5  on patrol with tunisia is coast guard nine boa...      1  \n6  hurrican idalia florida hunker down for unprec...      1  \n7  littl boy among three kill in counti tipperari...      1  \n8  harrison floyd bond agreement reach for jail g...      1  \n9  rare footag of st elmo is fire as hurrican app...      1  ",
      "text/html": "<div>\n<style scoped>\n    .dataframe tbody tr th:only-of-type {\n        vertical-align: middle;\n    }\n\n    .dataframe tbody tr th {\n        vertical-align: top;\n    }\n\n    .dataframe thead th {\n        text-align: right;\n    }\n</style>\n<table border=\"1\" class=\"dataframe\">\n  <thead>\n    <tr style=\"text-align: right;\">\n      <th></th>\n      <th>title</th>\n      <th>text</th>\n      <th>label</th>\n    </tr>\n  </thead>\n  <tbody>\n    <tr>\n      <th>0</th>\n      <td>Voice referendum: Australia to hold historic I...</td>\n      <td>voic referendum australia to hold histor indig...</td>\n      <td>1</td>\n    </tr>\n    <tr>\n      <th>1</th>\n      <td>Ukraine war: 'Drone attack' hits airport in no...</td>\n      <td>ukrain war drone attack hit airport in northwe...</td>\n      <td>1</td>\n    </tr>\n    <tr>\n      <th>2</th>\n      <td>James Cleverly visits Beijing as MPs criticise...</td>\n      <td>jame cleverli visit beij as mp criticis china ...</td>\n      <td>1</td>\n    </tr>\n    <tr>\n      <th>3</th>\n      <td>Nagorno-Karabakh: 'People are fainting queuing...</td>\n      <td>nagornokarabakh peopl are faint queu up for br...</td>\n      <td>1</td>\n    </tr>\n    <tr>\n      <th>4</th>\n      <td>Hurricane Idalia: What is a storm surge and wh...</td>\n      <td>hurrican idalia what is a storm surg and whi i...</td>\n      <td>1</td>\n    </tr>\n    <tr>\n      <th>5</th>\n      <td>On patrol with Tunisia's coast guard: Nine boa...</td>\n      <td>on patrol with tunisia is coast guard nine boa...</td>\n      <td>1</td>\n    </tr>\n    <tr>\n      <th>6</th>\n      <td>Hurricane Idalia: Florida hunkers down for 'un...</td>\n      <td>hurrican idalia florida hunker down for unprec...</td>\n      <td>1</td>\n    </tr>\n    <tr>\n      <th>7</th>\n      <td>Little boy among three killed in County Tipper...</td>\n      <td>littl boy among three kill in counti tipperari...</td>\n      <td>1</td>\n    </tr>\n    <tr>\n      <th>8</th>\n      <td>Harrison Floyd: Bond agreement reached for jai...</td>\n      <td>harrison floyd bond agreement reach for jail g...</td>\n      <td>1</td>\n    </tr>\n    <tr>\n      <th>9</th>\n      <td>Rare footage of St Elmo's Fire as hurricane ap...</td>\n      <td>rare footag of st elmo is fire as hurrican app...</td>\n      <td>1</td>\n    </tr>\n  </tbody>\n</table>\n</div>"
     },
     "execution_count": 24,
     "metadata": {},
     "output_type": "execute_result"
    }
   ],
   "source": [
    "final_news_df['text'] = final_news_df['title'] + ' ' + final_news_df['text']\n",
    "final_news_df['text'] = final_news_df['text'].apply(process_text)\n",
    "final_news_df.head(10)"
   ],
   "metadata": {
    "collapsed": false,
    "ExecuteTime": {
     "end_time": "2023-08-30T02:16:45.487994500Z",
     "start_time": "2023-08-30T02:08:47.848897300Z"
    }
   }
  },
  {
   "cell_type": "code",
   "execution_count": 25,
   "outputs": [
    {
     "data": {
      "text/plain": "title    0\ntext     0\nlabel    0\ndtype: int64"
     },
     "execution_count": 25,
     "metadata": {},
     "output_type": "execute_result"
    }
   ],
   "source": [
    "final_news_df.isnull().sum()"
   ],
   "metadata": {
    "collapsed": false,
    "ExecuteTime": {
     "end_time": "2023-08-30T02:16:45.503548300Z",
     "start_time": "2023-08-30T02:16:45.497995700Z"
    }
   }
  },
  {
   "cell_type": "code",
   "execution_count": 26,
   "outputs": [],
   "source": [
    "final_news_df.to_csv('final_cleaned_news_dataset.csv', index=False)"
   ],
   "metadata": {
    "collapsed": false,
    "ExecuteTime": {
     "end_time": "2023-08-30T02:16:47.288721300Z",
     "start_time": "2023-08-30T02:16:45.505556Z"
    }
   }
  },
  {
   "cell_type": "code",
   "execution_count": 26,
   "outputs": [],
   "source": [],
   "metadata": {
    "collapsed": false,
    "ExecuteTime": {
     "end_time": "2023-08-30T02:16:47.304265700Z",
     "start_time": "2023-08-30T02:16:47.290729100Z"
    }
   }
  }
 ],
 "metadata": {
  "kernelspec": {
   "display_name": "Python 3",
   "language": "python",
   "name": "python3"
  },
  "language_info": {
   "codemirror_mode": {
    "name": "ipython",
    "version": 2
   },
   "file_extension": ".py",
   "mimetype": "text/x-python",
   "name": "python",
   "nbconvert_exporter": "python",
   "pygments_lexer": "ipython2",
   "version": "2.7.6"
  }
 },
 "nbformat": 4,
 "nbformat_minor": 0
}
