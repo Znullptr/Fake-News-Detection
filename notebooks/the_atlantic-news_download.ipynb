{
 "cells": [
  {
   "cell_type": "code",
   "execution_count": null,
   "outputs": [],
   "source": [
    "import pandas as pd\n",
    "from newspaper import Article\n",
    "from tqdm import tqdm\n",
    "from bs4 import BeautifulSoup\n",
    "import requests"
   ],
   "metadata": {
    "collapsed": false,
    "pycharm": {
     "name": "#%%\n"
    }
   }
  },
  {
   "cell_type": "code",
   "execution_count": null,
   "outputs": [],
   "source": [
    "article_links = []\n",
    "def get_articles(soup):\n",
    "    articles = soup.findAll('article',class_='LandingRiver_promoItem__LuiRv')\n",
    "    for article in articles:\n",
    "        article_link = article.find('a',class_='LandingRiver_titleLink__WHlTC')['href']\n",
    "        article_links.append(article_link)"
   ],
   "metadata": {
    "collapsed": false,
    "pycharm": {
     "name": "#%%\n"
    }
   }
  },
  {
   "cell_type": "code",
   "execution_count": null,
   "outputs": [],
   "source": [
    "URL = 'https://www.theatlantic.com/latest/'\n",
    "next_url = URL\n",
    "for i in range(250):\n",
    "    response = requests.get(next_url)\n",
    "    if response.status_code == 200:\n",
    "        soup = BeautifulSoup(response.content, 'lxml')\n",
    "        get_articles(soup)\n",
    "        a_tags=soup.findAll('a',class_='LandingRiver_paginationLink__QDaGM')\n",
    "        if i==0:\n",
    "            index=0\n",
    "        else:\n",
    "            index=1\n",
    "        next_url = URL +  a_tags[index]['href'][8:]"
   ],
   "metadata": {
    "collapsed": false,
    "pycharm": {
     "name": "#%%\n"
    }
   }
  },
  {
   "cell_type": "code",
   "execution_count": null,
   "outputs": [],
   "source": [
    "articles = {\n",
    "    'Title': [],\n",
    "    'Description': []\n",
    "}\n",
    "num_links = len(article_links)\n",
    "part_size = num_links // 3\n",
    "for link in tqdm(article_links[:part_size], total=part_size):\n",
    "    news_article = Article(link)\n",
    "    news_article.download()\n",
    "    news_article.parse()\n",
    "    title = news_article.title\n",
    "    description = news_article.text\n",
    "    articles['Title'].append(title)\n",
    "    articles['Description'].append(description)"
   ],
   "metadata": {
    "collapsed": false,
    "pycharm": {
     "name": "#%%\n"
    }
   }
  },
  {
   "cell_type": "code",
   "execution_count": null,
   "outputs": [],
   "source": [
    "for link in tqdm(article_links[part_size:2 * part_size], total=part_size):\n",
    "    news_article = Article(link)\n",
    "    news_article.download()\n",
    "    news_article.parse()\n",
    "    title = news_article.title\n",
    "    description = news_article.text\n",
    "    articles['Title'].append(title)\n",
    "    articles['Description'].append(description)"
   ],
   "metadata": {
    "collapsed": false
   }
  },
  {
   "cell_type": "code",
   "execution_count": null,
   "outputs": [],
   "source": [
    "for link in tqdm(article_links[2 * part_size:], total=num_links - 2 * part_size):\n",
    "    news_article = Article(link)\n",
    "    news_article.download()\n",
    "    news_article.parse()\n",
    "    title = news_article.title\n",
    "    description = news_article.text\n",
    "    articles['Title'].append(title)\n",
    "    articles['Description'].append(description)"
   ],
   "metadata": {
    "collapsed": false
   }
  },
  {
   "cell_type": "code",
   "execution_count": null,
   "outputs": [],
   "source": [
    "news_df = pd.DataFrame(articles)\n",
    "news_df['Label'] = 1\n",
    "news_df.to_csv('the_atlantic_news.csv',index=False)"
   ],
   "metadata": {
    "collapsed": false,
    "pycharm": {
     "name": "#%%\n",
     "is_executing": true
    }
   }
  }
 ],
 "metadata": {
  "kernelspec": {
   "display_name": "Python 3",
   "language": "python",
   "name": "python3"
  },
  "language_info": {
   "codemirror_mode": {
    "name": "ipython",
    "version": 2
   },
   "file_extension": ".py",
   "mimetype": "text/x-python",
   "name": "python",
   "nbconvert_exporter": "python",
   "pygments_lexer": "ipython2",
   "version": "2.7.6"
  }
 },
 "nbformat": 4,
 "nbformat_minor": 0
}
