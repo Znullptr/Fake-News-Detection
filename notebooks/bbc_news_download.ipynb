{
 "cells": [
  {
   "cell_type": "code",
   "execution_count": null,
   "metadata": {
    "collapsed": true,
    "pycharm": {
     "name": "#%%\n"
    }
   },
   "outputs": [],
   "source": [
    "import requests\n",
    "import pandas as pd\n",
    "from tqdm import tqdm\n",
    "from bs4 import BeautifulSoup"
   ]
  },
  {
   "cell_type": "code",
   "execution_count": null,
   "outputs": [],
   "source": [
    "all_data = []\n",
    "\n",
    "for i in tqdm(range(1,52), desc=\"Fetching Articles\"):\n",
    "    url = f\"https://push.api.bbci.co.uk/batch?t=%2Fdata%2Fbbc-morph-lx-commentary-data-paged%2Fabout%2F8467c0e0-584b-41de-9682-756b311216b5%2FisUk%2Ffalse%2Flimit%2F20%2FnitroKey%2Flx-nitro%2FpageNumber%2F{i}%2Fversion%2F1.5.6?timeout=5\"\n",
    "    response = requests.get(url)\n",
    "    if response.status_code == 200:\n",
    "        data = response.json()\n",
    "        results= data['payload']\n",
    "        for result in results:\n",
    "            all_data.extend(result['body']['results'])\n",
    "df = pd.DataFrame(all_data)\n",
    "df.dropna(subset='url',inplace=True)\n",
    "df.reset_index(drop=True, inplace=True)"
   ],
   "metadata": {
    "collapsed": false,
    "pycharm": {
     "name": "#%%\n"
    }
   }
  },
  {
   "cell_type": "code",
   "execution_count": null,
   "outputs": [],
   "source": [
    "df.shape"
   ],
   "metadata": {
    "collapsed": false,
    "pycharm": {
     "name": "#%%\n"
    }
   }
  },
  {
   "cell_type": "code",
   "execution_count": null,
   "outputs": [],
   "source": [
    "articles = {\n",
    "    'Title': [],\n",
    "    'Description': []\n",
    "}\n",
    "URL='https://www.bbc.com/'\n",
    "for index, row in tqdm(df.iterrows(), total=len(df)):\n",
    "    link = URL + row['url']\n",
    "    response = requests.get(link)\n",
    "    if response.status_code == 200:\n",
    "        soup = BeautifulSoup(response.content, \"html.parser\")\n",
    "        title = soup.find('h1').get_text()\n",
    "        paragraphs = soup.find_all(\"p\")\n",
    "        description = '\\n'.join([paragraph.get_text() for paragraph in paragraphs])\n",
    "        articles['Title'].append(title)\n",
    "        articles['Description'].append(description)"
   ],
   "metadata": {
    "collapsed": false,
    "pycharm": {
     "name": "#%%\n"
    }
   }
  },
  {
   "cell_type": "code",
   "execution_count": null,
   "outputs": [],
   "source": [
    "news_df = pd.DataFrame(articles)\n",
    "news_df['Label'] = 1\n",
    "news_df.to_csv('bbc_news.csv',index=False)"
   ],
   "metadata": {
    "collapsed": false,
    "pycharm": {
     "name": "#%%\n"
    }
   }
  }
 ],
 "metadata": {
  "kernelspec": {
   "display_name": "Python 3",
   "language": "python",
   "name": "python3"
  },
  "language_info": {
   "codemirror_mode": {
    "name": "ipython",
    "version": 2
   },
   "file_extension": ".py",
   "mimetype": "text/x-python",
   "name": "python",
   "nbconvert_exporter": "python",
   "pygments_lexer": "ipython2",
   "version": "2.7.6"
  }
 },
 "nbformat": 4,
 "nbformat_minor": 0
}
