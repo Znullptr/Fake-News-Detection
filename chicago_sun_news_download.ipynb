{
 "cells": [
  {
   "cell_type": "code",
   "execution_count": null,
   "metadata": {
    "collapsed": true,
    "pycharm": {
     "name": "#%%\n"
    }
   },
   "outputs": [],
   "source": [
    "import pandas as pd\n",
    "from bs4 import BeautifulSoup\n",
    "import requests\n",
    "from newspaper import Article\n",
    "from tqdm import tqdm"
   ]
  },
  {
   "cell_type": "code",
   "execution_count": null,
   "outputs": [],
   "source": [
    "article_links=[]\n",
    "def get_articles(soup):\n",
    "    articles = soup.findAll('div',class_='PageListH-items-item')\n",
    "    for article in articles:\n",
    "        a_tag = article.find('a',class_='Link')\n",
    "        if a_tag:\n",
    "            link=a_tag['href']\n",
    "            article_links.append(link)"
   ],
   "metadata": {
    "collapsed": false,
    "pycharm": {
     "name": "#%%\n"
    }
   }
  },
  {
   "cell_type": "code",
   "execution_count": null,
   "outputs": [],
   "source": [
    "for i in tqdm(range(1,101), desc=\"Downloading Articles\"):\n",
    "    next_url=f'https://chicago.suntimes.com/?p={i}'\n",
    "    response = requests.get(next_url)\n",
    "    if response.status_code == 200:\n",
    "        soup = BeautifulSoup(response.content, 'lxml')\n",
    "        get_articles(soup)"
   ],
   "metadata": {
    "collapsed": false,
    "pycharm": {
     "name": "#%%\n"
    }
   }
  },
  {
   "cell_type": "code",
   "execution_count": null,
   "outputs": [],
   "source": [
    "articles = {\n",
    "    'Title': [],\n",
    "    'Description': []\n",
    "}\n",
    "num_links = len(article_links)\n",
    "part_size = num_links // 5\n",
    "for link in tqdm(article_links[:part_size], total=part_size):\n",
    "    news_article = Article(link)\n",
    "    news_article.download()\n",
    "    news_article.parse()\n",
    "    title = news_article.title\n",
    "    description = news_article.text\n",
    "    articles['Title'].append(title)\n",
    "    articles['Description'].append(description)"
   ],
   "metadata": {
    "collapsed": false,
    "pycharm": {
     "name": "#%%\n"
    }
   }
  },
  {
   "cell_type": "code",
   "execution_count": null,
   "outputs": [],
   "source": [
    "for link in tqdm(article_links[part_size:2 * part_size], total=part_size):\n",
    "    news_article = Article(link)\n",
    "    news_article.download()\n",
    "    news_article.parse()\n",
    "    title = news_article.title\n",
    "    description = news_article.text\n",
    "    articles['Title'].append(title)\n",
    "    articles['Description'].append(description)"
   ],
   "metadata": {
    "collapsed": false
   }
  },
  {
   "cell_type": "code",
   "execution_count": null,
   "outputs": [],
   "source": [
    "for link in tqdm(article_links[2 * part_size:3 * part_size], total=part_size):\n",
    "    news_article = Article(link)\n",
    "    news_article.download()\n",
    "    news_article.parse()\n",
    "    title = news_article.title\n",
    "    description = news_article.text\n",
    "    articles['Title'].append(title)\n",
    "    articles['Description'].append(description)"
   ],
   "metadata": {
    "collapsed": false
   }
  },
  {
   "cell_type": "code",
   "execution_count": null,
   "outputs": [],
   "source": [
    "for link in tqdm(article_links[3 * part_size:4 * part_size], total=part_size):\n",
    "    news_article = Article(link)\n",
    "    news_article.download()\n",
    "    news_article.parse()\n",
    "    title = news_article.title\n",
    "    description = news_article.text\n",
    "    articles['Title'].append(title)\n",
    "    articles['Description'].append(description)"
   ],
   "metadata": {
    "collapsed": false
   }
  },
  {
   "cell_type": "code",
   "execution_count": null,
   "outputs": [],
   "source": [
    "for link in tqdm(article_links[4 * part_size:], total=num_links - 4 * part_size):\n",
    "    news_article = Article(link)\n",
    "    news_article.download()\n",
    "    news_article.parse()\n",
    "    title = news_article.title\n",
    "    description = news_article.text\n",
    "    articles['Title'].append(title)\n",
    "    articles['Description'].append(description)"
   ],
   "metadata": {
    "collapsed": false
   }
  },
  {
   "cell_type": "code",
   "execution_count": null,
   "outputs": [],
   "source": [
    "news_df = pd.DataFrame(articles)\n",
    "news_df['Label'] = 1\n",
    "news_df.to_csv('chicago_sun_news.csv',index=False)"
   ],
   "metadata": {
    "collapsed": false,
    "pycharm": {
     "name": "#%%\n"
    }
   }
  },
  {
   "cell_type": "code",
   "execution_count": null,
   "outputs": [],
   "source": [],
   "metadata": {
    "collapsed": false
   }
  }
 ],
 "metadata": {
  "kernelspec": {
   "display_name": "Python 3",
   "language": "python",
   "name": "python3"
  },
  "language_info": {
   "codemirror_mode": {
    "name": "ipython",
    "version": 2
   },
   "file_extension": ".py",
   "mimetype": "text/x-python",
   "name": "python",
   "nbconvert_exporter": "python",
   "pygments_lexer": "ipython2",
   "version": "2.7.6"
  }
 },
 "nbformat": 4,
 "nbformat_minor": 0
}
